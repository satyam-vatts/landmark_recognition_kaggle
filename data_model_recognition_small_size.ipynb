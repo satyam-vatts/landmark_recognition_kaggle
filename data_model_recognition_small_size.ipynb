{
 "cells": [
  {
   "cell_type": "markdown",
   "metadata": {},
   "source": [
    "## Importing Libraries"
   ]
  },
  {
   "cell_type": "code",
   "execution_count": 1,
   "metadata": {},
   "outputs": [],
   "source": [
    "from tensorflow.keras.preprocessing.image import ImageDataGenerator\n",
    "import os\n",
    "import re\n",
    "import numpy as np\n",
    "import pandas as pd\n",
    "import random\n",
    "import math\n",
    "from sklearn import metrics\n",
    "from sklearn.model_selection import train_test_split\n",
    "import tensorflow as tf\n",
    "import efficientnet.tfkeras as efn\n",
    "from tensorflow.keras import backend as K\n",
    "import tensorflow_addons as tfa\n",
    "from tqdm.notebook import tqdm as tqdm\n",
    "import cv2\n",
    "import pathlib\n",
    "import operator\n",
    "import gc\n",
    "import pathlib\n",
    "import shutil\n",
    "import numpy as np\n",
    "import pandas as pd\n",
    "import tensorflow as tf\n",
    "from tensorflow.keras import backend as K\n",
    "from scipy import spatial\n",
    "import cv2\n",
    "import efficientnet.tfkeras as efn\n",
    "import math"
   ]
  },
  {
   "cell_type": "markdown",
   "metadata": {},
   "source": [
    "## Setting Global Configs"
   ]
  },
  {
   "cell_type": "code",
   "execution_count": 2,
   "metadata": {},
   "outputs": [],
   "source": [
    "# config\n",
    "\n",
    "# For tf.dataset\n",
    "AUTO = tf.data.experimental.AUTOTUNE\n",
    "\n",
    "# Configuration\n",
    "EPOCHS = 2 # 3hrs\n",
    "BATCH_SIZE = 32\n",
    "IMAGE_SIZE = [32, 32] # Effecientnet accepts this format\n",
    "# Seed\n",
    "SEED = 100\n",
    "# Learning rate\n",
    "LR = 0.0001\n",
    "# Number of classes\n",
    "NUMBER_OF_CLASSES = 996\n",
    "strategy = tf.distribute.get_strategy()\n",
    "\n"
   ]
  },
  {
   "cell_type": "code",
   "execution_count": 3,
   "metadata": {},
   "outputs": [
    {
     "data": {
      "text/html": [
       "<div>\n",
       "<style scoped>\n",
       "    .dataframe tbody tr th:only-of-type {\n",
       "        vertical-align: middle;\n",
       "    }\n",
       "\n",
       "    .dataframe tbody tr th {\n",
       "        vertical-align: top;\n",
       "    }\n",
       "\n",
       "    .dataframe thead th {\n",
       "        text-align: right;\n",
       "    }\n",
       "</style>\n",
       "<table border=\"1\" class=\"dataframe\">\n",
       "  <thead>\n",
       "    <tr style=\"text-align: right;\">\n",
       "      <th></th>\n",
       "      <th>id</th>\n",
       "      <th>landmark_id</th>\n",
       "      <th>landmark_id_encode</th>\n",
       "      <th>group</th>\n",
       "    </tr>\n",
       "  </thead>\n",
       "  <tbody>\n",
       "    <tr>\n",
       "      <th>1042527</th>\n",
       "      <td>1c3654818c768b2c</td>\n",
       "      <td>134466</td>\n",
       "      <td>54000</td>\n",
       "      <td>32.0</td>\n",
       "    </tr>\n",
       "    <tr>\n",
       "      <th>613554</th>\n",
       "      <td>fed703fc407ea6cb</td>\n",
       "      <td>78875</td>\n",
       "      <td>31731</td>\n",
       "      <td>23.0</td>\n",
       "    </tr>\n",
       "    <tr>\n",
       "      <th>158442</th>\n",
       "      <td>a781aff8a80fe610</td>\n",
       "      <td>20409</td>\n",
       "      <td>8211</td>\n",
       "      <td>38.0</td>\n",
       "    </tr>\n",
       "    <tr>\n",
       "      <th>795783</th>\n",
       "      <td>7317abdb5266aaf6</td>\n",
       "      <td>102839</td>\n",
       "      <td>41351</td>\n",
       "      <td>31.0</td>\n",
       "    </tr>\n",
       "    <tr>\n",
       "      <th>1042519</th>\n",
       "      <td>143ad48bc9990f56</td>\n",
       "      <td>134466</td>\n",
       "      <td>54000</td>\n",
       "      <td>25.0</td>\n",
       "    </tr>\n",
       "  </tbody>\n",
       "</table>\n",
       "</div>"
      ],
      "text/plain": [
       "                       id  landmark_id  landmark_id_encode  group\n",
       "1042527  1c3654818c768b2c       134466               54000   32.0\n",
       "613554   fed703fc407ea6cb        78875               31731   23.0\n",
       "158442   a781aff8a80fe610        20409                8211   38.0\n",
       "795783   7317abdb5266aaf6       102839               41351   31.0\n",
       "1042519  143ad48bc9990f56       134466               54000   25.0"
      ]
     },
     "execution_count": 3,
     "metadata": {},
     "output_type": "execute_result"
    }
   ],
   "source": [
    "train_df = pd.read_csv('landmark-recognition-2020/train_encoded.csv')\n",
    "sample_df = train_df.sample(frac=0.7, random_state=1234)\n",
    "sample_df.head()"
   ]
  },
  {
   "cell_type": "code",
   "execution_count": 4,
   "metadata": {},
   "outputs": [],
   "source": [
    "sample_df_classes = sample_df['landmark_id_encode'].value_counts()\n",
    "sample_df_classes_with_at_least_100 = sample_df_classes[sample_df_classes >= 100]\n",
    "# images = 175809, landmarks = 996\n"
   ]
  },
  {
   "cell_type": "code",
   "execution_count": 5,
   "metadata": {},
   "outputs": [],
   "source": [
    "# Seed everything\n",
    "random.seed(SEED)\n",
    "np.random.seed(SEED)\n",
    "os.environ['PYTHONHASHSEED'] = str(SEED)\n",
    "tf.random.set_seed(SEED)"
   ]
  },
  {
   "cell_type": "code",
   "execution_count": 6,
   "metadata": {},
   "outputs": [],
   "source": [
    "# Model Training\n",
    "\n",
    "train_dir = 'Data/train'\n",
    "test_dir = 'Data/test'\n",
    "val_dir = 'Data/val'\n",
    "datagen = ImageDataGenerator(rescale = 1./255)"
   ]
  },
  {
   "cell_type": "code",
   "execution_count": 7,
   "metadata": {},
   "outputs": [
    {
     "name": "stdout",
     "output_type": "stream",
     "text": [
      "Metal device set to: Apple M1\n",
      "\n",
      "systemMemory: 16.00 GB\n",
      "maxCacheSize: 5.33 GB\n",
      "\n"
     ]
    },
    {
     "name": "stderr",
     "output_type": "stream",
     "text": [
      "2022-04-09 16:27:51.384271: I tensorflow/core/common_runtime/pluggable_device/pluggable_device_factory.cc:305] Could not identify NUMA node of platform GPU ID 0, defaulting to 0. Your kernel may not have been built with NUMA support.\n",
      "2022-04-09 16:27:51.384387: I tensorflow/core/common_runtime/pluggable_device/pluggable_device_factory.cc:271] Created TensorFlow device (/job:localhost/replica:0/task:0/device:GPU:0 with 0 MB memory) -> physical PluggableDevice (device: 0, name: METAL, pci bus id: <undefined>)\n"
     ]
    }
   ],
   "source": [
    "def make_train_generator():\n",
    "    train_generator = datagen.flow_from_directory(train_dir,target_size=IMAGE_SIZE,batch_size=BATCH_SIZE,class_mode='sparse')\n",
    "    return train_generator\n",
    "\n",
    "train_dataset = tf.data.Dataset.from_generator(make_train_generator,(tf.float32, tf.float32))"
   ]
  },
  {
   "cell_type": "code",
   "execution_count": 8,
   "metadata": {},
   "outputs": [],
   "source": [
    "def make_val_generator():\n",
    "    val_generator = datagen.flow_from_directory(val_dir,target_size=IMAGE_SIZE,batch_size=BATCH_SIZE,class_mode='sparse', shuffle=False)\n",
    "    return val_generator\n",
    "\n",
    "val_dataset = tf.data.Dataset.from_generator(make_val_generator,(tf.float32, tf.float32))"
   ]
  },
  {
   "cell_type": "code",
   "execution_count": 9,
   "metadata": {},
   "outputs": [],
   "source": [
    "NUM_TRAINING_IMAGES = 98428\n",
    "NUM_VALIDATION_IMAGES = 42219\n",
    "STEPS_PER_EPOCH = NUM_TRAINING_IMAGES // BATCH_SIZE"
   ]
  },
  {
   "cell_type": "code",
   "execution_count": 10,
   "metadata": {},
   "outputs": [],
   "source": [
    "# This function output the data so that we can use arcface\n",
    "def arcface_format(image, target):\n",
    "    return {'inp1': image, 'inp2': target}, target"
   ]
  },
  {
   "cell_type": "code",
   "execution_count": 11,
   "metadata": {},
   "outputs": [],
   "source": [
    "train_dataset = train_dataset.map(arcface_format,num_parallel_calls = AUTO)"
   ]
  },
  {
   "cell_type": "code",
   "execution_count": 12,
   "metadata": {},
   "outputs": [],
   "source": [
    "val_dataset = val_dataset.map(arcface_format,num_parallel_calls = AUTO)"
   ]
  },
  {
   "cell_type": "code",
   "execution_count": 13,
   "metadata": {},
   "outputs": [
    {
     "data": {
      "text/plain": [
       "<ParallelMapDataset element_spec=({'inp1': TensorSpec(shape=<unknown>, dtype=tf.float32, name=None), 'inp2': TensorSpec(shape=<unknown>, dtype=tf.float32, name=None)}, TensorSpec(shape=<unknown>, dtype=tf.float32, name=None))>"
      ]
     },
     "execution_count": 13,
     "metadata": {},
     "output_type": "execute_result"
    }
   ],
   "source": [
    "train_dataset"
   ]
  },
  {
   "cell_type": "code",
   "execution_count": 14,
   "metadata": {},
   "outputs": [],
   "source": [
    "class ArcMarginProduct(tf.keras.layers.Layer):\n",
    "    '''\n",
    "    Implements large margin arc distance.\n",
    "\n",
    "    Reference:\n",
    "        https://arxiv.org/pdf/1801.07698.pdf\n",
    "        https://github.com/lyakaap/Landmark2019-1st-and-3rd-Place-Solution/\n",
    "            blob/master/src/modeling/metric_learning.py\n",
    "    '''\n",
    "    def __init__(self, n_classes, s=30, m=0.50, easy_margin=False,\n",
    "                 ls_eps=0.0, **kwargs):\n",
    "\n",
    "        super(ArcMarginProduct, self).__init__(**kwargs)\n",
    "\n",
    "        self.n_classes = n_classes\n",
    "        self.s = s\n",
    "        self.m = m\n",
    "        self.ls_eps = ls_eps\n",
    "        self.easy_margin = easy_margin\n",
    "        self.cos_m = tf.math.cos(m)\n",
    "        self.sin_m = tf.math.sin(m)\n",
    "        self.th = tf.math.cos(math.pi - m)\n",
    "        self.mm = tf.math.sin(math.pi - m) * m\n",
    "\n",
    "    def get_config(self):\n",
    "\n",
    "        config = super().get_config().copy()\n",
    "        config.update({\n",
    "            'n_classes': self.n_classes,\n",
    "            's': self.s,\n",
    "            'm': self.m,\n",
    "            'ls_eps': self.ls_eps,\n",
    "            'easy_margin': self.easy_margin,\n",
    "        })\n",
    "        return config\n",
    "\n",
    "    def build(self, input_shape):\n",
    "        super(ArcMarginProduct, self).build(input_shape[0])\n",
    "\n",
    "        self.W = self.add_weight(\n",
    "            name='W',\n",
    "            shape=(int(input_shape[0][-1]), self.n_classes),\n",
    "            initializer='glorot_uniform',\n",
    "            dtype='float32',\n",
    "            trainable=True,\n",
    "            regularizer=None)\n",
    "\n",
    "    def call(self, inputs):\n",
    "        X, y = inputs\n",
    "        y = tf.cast(y, dtype=tf.int32)\n",
    "        cosine = tf.matmul(\n",
    "            tf.math.l2_normalize(X, axis=1),\n",
    "            tf.math.l2_normalize(self.W, axis=0)\n",
    "        )\n",
    "        sine = tf.math.sqrt(1.0 - tf.math.pow(cosine, 2))\n",
    "        phi = cosine * self.cos_m - sine * self.sin_m\n",
    "        if self.easy_margin:\n",
    "            phi = tf.where(cosine > 0, phi, cosine)\n",
    "        else:\n",
    "            phi = tf.where(cosine > self.th, phi, cosine - self.mm)\n",
    "        one_hot = tf.cast(\n",
    "            tf.one_hot(y, depth=self.n_classes),\n",
    "            dtype=cosine.dtype\n",
    "        )\n",
    "        if self.ls_eps > 0:\n",
    "            one_hot = (1 - self.ls_eps) * one_hot + self.ls_eps / self.n_classes\n",
    "\n",
    "        output = (one_hot * phi) + ((1.0 - one_hot) * cosine)\n",
    "        output *= self.s\n",
    "        return output\n"
   ]
  },
  {
   "cell_type": "code",
   "execution_count": 15,
   "metadata": {},
   "outputs": [],
   "source": [
    "def develop_model():\n",
    "\n",
    "    with strategy.scope():\n",
    "\n",
    "        margin = ArcMarginProduct(\n",
    "            n_classes = NUMBER_OF_CLASSES, \n",
    "            s = 64, \n",
    "            m = 0.05, \n",
    "            name='head/arc_margin', \n",
    "            dtype='float32'\n",
    "            )\n",
    "\n",
    "        inp = tf.keras.layers.Input(shape = (*IMAGE_SIZE, 3), name = 'inp1')\n",
    "        label = tf.keras.layers.Input(shape = (), name = 'inp2')\n",
    "        x0 = efn.EfficientNetB0(weights = 'imagenet',include_top = False, input_shape=(*IMAGE_SIZE, 3))(inp)\n",
    "        x = tf.keras.layers.GlobalAveragePooling2D()(x0)\n",
    "        x = tf.keras.layers.Dropout(0.3)(x)\n",
    "        x = tf.keras.layers.Dense(512)(x)\n",
    "        x = margin([x, label])\n",
    "        \n",
    "        output = tf.keras.layers.Softmax(dtype='float32')(x)\n",
    "\n",
    "        model = tf.keras.models.Model(inputs = [inp, label], outputs = [output])\n",
    "\n",
    "        opt = tf.keras.optimizers.Adam(learning_rate = LR)\n",
    "\n",
    "        model.compile(\n",
    "            optimizer = opt,\n",
    "            loss = [tf.keras.losses.SparseCategoricalCrossentropy()],\n",
    "            metrics = [tf.keras.metrics.SparseCategoricalAccuracy()]\n",
    "            ) \n",
    "        \n",
    "        return model"
   ]
  },
  {
   "cell_type": "code",
   "execution_count": 16,
   "metadata": {},
   "outputs": [],
   "source": [
    "model = develop_model()"
   ]
  },
  {
   "cell_type": "code",
   "execution_count": 17,
   "metadata": {},
   "outputs": [
    {
     "name": "stdout",
     "output_type": "stream",
     "text": [
      "Epoch 1/2\n"
     ]
    },
    {
     "name": "stderr",
     "output_type": "stream",
     "text": [
      "2022-04-09 16:28:12.544736: W tensorflow/core/platform/profile_utils/cpu_utils.cc:128] Failed to get CPU frequency: 0 Hz\n",
      "2022-04-09 16:28:15.625759: I tensorflow/core/grappler/optimizers/custom_graph_optimizer_registry.cc:113] Plugin optimizer for device_type GPU is enabled.\n",
      "2022-04-09 16:28:15.935213: W tensorflow/core/grappler/costs/op_level_cost_estimator.cc:690] Error in PredictCost() for the op: op: \"Softmax\" attr { key: \"T\" value { type: DT_FLOAT } } inputs { dtype: DT_FLOAT shape { unknown_rank: true } } device { type: \"GPU\" } outputs { dtype: DT_FLOAT shape { unknown_rank: true } }\n"
     ]
    },
    {
     "name": "stdout",
     "output_type": "stream",
     "text": [
      "Found 98428 images belonging to 996 classes.\n",
      "3075/3075 [==============================] - ETA: 0s - loss: 11.3289 - sparse_categorical_accuracy: 0.0227"
     ]
    },
    {
     "name": "stderr",
     "output_type": "stream",
     "text": [
      "2022-04-09 16:33:57.388739: I tensorflow/core/grappler/optimizers/custom_graph_optimizer_registry.cc:113] Plugin optimizer for device_type GPU is enabled.\n",
      "2022-04-09 16:33:57.473121: W tensorflow/core/grappler/costs/op_level_cost_estimator.cc:690] Error in PredictCost() for the op: op: \"Softmax\" attr { key: \"T\" value { type: DT_FLOAT } } inputs { dtype: DT_FLOAT shape { unknown_rank: true } } device { type: \"GPU\" } outputs { dtype: DT_FLOAT shape { unknown_rank: true } }\n"
     ]
    },
    {
     "name": "stdout",
     "output_type": "stream",
     "text": [
      "Found 42219 images belonging to 996 classes.\n"
     ]
    },
    {
     "ename": "KeyboardInterrupt",
     "evalue": "",
     "output_type": "error",
     "traceback": [
      "\u001b[0;31m---------------------------------------------------------------------------\u001b[0m",
      "\u001b[0;31mKeyboardInterrupt\u001b[0m                         Traceback (most recent call last)",
      "\u001b[1;32m/Users/satyamvatts/dev/gitrepos/cpsc_kaggle/CPSC EXAM SOL 2-1.ipynb Cell 19'\u001b[0m in \u001b[0;36m<cell line: 2>\u001b[0;34m()\u001b[0m\n\u001b[1;32m      <a href='vscode-notebook-cell:/Users/satyamvatts/dev/gitrepos/cpsc_kaggle/CPSC%20EXAM%20SOL%202-1.ipynb#ch0000018?line=0'>1</a>\u001b[0m \u001b[39m# Train and evaluate our model\u001b[39;00m\n\u001b[0;32m----> <a href='vscode-notebook-cell:/Users/satyamvatts/dev/gitrepos/cpsc_kaggle/CPSC%20EXAM%20SOL%202-1.ipynb#ch0000018?line=1'>2</a>\u001b[0m history \u001b[39m=\u001b[39m model\u001b[39m.\u001b[39;49mfit(train_dataset,  \n\u001b[1;32m      <a href='vscode-notebook-cell:/Users/satyamvatts/dev/gitrepos/cpsc_kaggle/CPSC%20EXAM%20SOL%202-1.ipynb#ch0000018?line=2'>3</a>\u001b[0m                     steps_per_epoch \u001b[39m=\u001b[39;49m STEPS_PER_EPOCH,\n\u001b[1;32m      <a href='vscode-notebook-cell:/Users/satyamvatts/dev/gitrepos/cpsc_kaggle/CPSC%20EXAM%20SOL%202-1.ipynb#ch0000018?line=3'>4</a>\u001b[0m                     \u001b[39m# validation_steps=validation_generator.samples//BATCH_SIZE,\u001b[39;49;00m\n\u001b[1;32m      <a href='vscode-notebook-cell:/Users/satyamvatts/dev/gitrepos/cpsc_kaggle/CPSC%20EXAM%20SOL%202-1.ipynb#ch0000018?line=4'>5</a>\u001b[0m                     epochs \u001b[39m=\u001b[39;49m \u001b[39m2\u001b[39;49m,\n\u001b[1;32m      <a href='vscode-notebook-cell:/Users/satyamvatts/dev/gitrepos/cpsc_kaggle/CPSC%20EXAM%20SOL%202-1.ipynb#ch0000018?line=5'>6</a>\u001b[0m                     validation_data \u001b[39m=\u001b[39;49m val_dataset,\n\u001b[1;32m      <a href='vscode-notebook-cell:/Users/satyamvatts/dev/gitrepos/cpsc_kaggle/CPSC%20EXAM%20SOL%202-1.ipynb#ch0000018?line=6'>7</a>\u001b[0m                     verbose\u001b[39m=\u001b[39;49m\u001b[39m1\u001b[39;49m\n\u001b[1;32m      <a href='vscode-notebook-cell:/Users/satyamvatts/dev/gitrepos/cpsc_kaggle/CPSC%20EXAM%20SOL%202-1.ipynb#ch0000018?line=7'>8</a>\u001b[0m                     )\n",
      "File \u001b[0;32m~/miniforge3/envs/mlp/lib/python3.8/site-packages/keras/utils/traceback_utils.py:64\u001b[0m, in \u001b[0;36mfilter_traceback.<locals>.error_handler\u001b[0;34m(*args, **kwargs)\u001b[0m\n\u001b[1;32m     <a href='file:///Users/satyamvatts/miniforge3/envs/mlp/lib/python3.8/site-packages/keras/utils/traceback_utils.py?line=61'>62</a>\u001b[0m filtered_tb \u001b[39m=\u001b[39m \u001b[39mNone\u001b[39;00m\n\u001b[1;32m     <a href='file:///Users/satyamvatts/miniforge3/envs/mlp/lib/python3.8/site-packages/keras/utils/traceback_utils.py?line=62'>63</a>\u001b[0m \u001b[39mtry\u001b[39;00m:\n\u001b[0;32m---> <a href='file:///Users/satyamvatts/miniforge3/envs/mlp/lib/python3.8/site-packages/keras/utils/traceback_utils.py?line=63'>64</a>\u001b[0m   \u001b[39mreturn\u001b[39;00m fn(\u001b[39m*\u001b[39;49margs, \u001b[39m*\u001b[39;49m\u001b[39m*\u001b[39;49mkwargs)\n\u001b[1;32m     <a href='file:///Users/satyamvatts/miniforge3/envs/mlp/lib/python3.8/site-packages/keras/utils/traceback_utils.py?line=64'>65</a>\u001b[0m \u001b[39mexcept\u001b[39;00m \u001b[39mException\u001b[39;00m \u001b[39mas\u001b[39;00m e:  \u001b[39m# pylint: disable=broad-except\u001b[39;00m\n\u001b[1;32m     <a href='file:///Users/satyamvatts/miniforge3/envs/mlp/lib/python3.8/site-packages/keras/utils/traceback_utils.py?line=65'>66</a>\u001b[0m   filtered_tb \u001b[39m=\u001b[39m _process_traceback_frames(e\u001b[39m.\u001b[39m__traceback__)\n",
      "File \u001b[0;32m~/miniforge3/envs/mlp/lib/python3.8/site-packages/keras/engine/training.py:1420\u001b[0m, in \u001b[0;36mModel.fit\u001b[0;34m(self, x, y, batch_size, epochs, verbose, callbacks, validation_split, validation_data, shuffle, class_weight, sample_weight, initial_epoch, steps_per_epoch, validation_steps, validation_batch_size, validation_freq, max_queue_size, workers, use_multiprocessing)\u001b[0m\n\u001b[1;32m   <a href='file:///Users/satyamvatts/miniforge3/envs/mlp/lib/python3.8/site-packages/keras/engine/training.py?line=1405'>1406</a>\u001b[0m \u001b[39mif\u001b[39;00m \u001b[39mgetattr\u001b[39m(\u001b[39mself\u001b[39m, \u001b[39m'\u001b[39m\u001b[39m_eval_data_handler\u001b[39m\u001b[39m'\u001b[39m, \u001b[39mNone\u001b[39;00m) \u001b[39mis\u001b[39;00m \u001b[39mNone\u001b[39;00m:\n\u001b[1;32m   <a href='file:///Users/satyamvatts/miniforge3/envs/mlp/lib/python3.8/site-packages/keras/engine/training.py?line=1406'>1407</a>\u001b[0m   \u001b[39mself\u001b[39m\u001b[39m.\u001b[39m_eval_data_handler \u001b[39m=\u001b[39m data_adapter\u001b[39m.\u001b[39mget_data_handler(\n\u001b[1;32m   <a href='file:///Users/satyamvatts/miniforge3/envs/mlp/lib/python3.8/site-packages/keras/engine/training.py?line=1407'>1408</a>\u001b[0m       x\u001b[39m=\u001b[39mval_x,\n\u001b[1;32m   <a href='file:///Users/satyamvatts/miniforge3/envs/mlp/lib/python3.8/site-packages/keras/engine/training.py?line=1408'>1409</a>\u001b[0m       y\u001b[39m=\u001b[39mval_y,\n\u001b[0;32m   (...)\u001b[0m\n\u001b[1;32m   <a href='file:///Users/satyamvatts/miniforge3/envs/mlp/lib/python3.8/site-packages/keras/engine/training.py?line=1417'>1418</a>\u001b[0m       model\u001b[39m=\u001b[39m\u001b[39mself\u001b[39m,\n\u001b[1;32m   <a href='file:///Users/satyamvatts/miniforge3/envs/mlp/lib/python3.8/site-packages/keras/engine/training.py?line=1418'>1419</a>\u001b[0m       steps_per_execution\u001b[39m=\u001b[39m\u001b[39mself\u001b[39m\u001b[39m.\u001b[39m_steps_per_execution)\n\u001b[0;32m-> <a href='file:///Users/satyamvatts/miniforge3/envs/mlp/lib/python3.8/site-packages/keras/engine/training.py?line=1419'>1420</a>\u001b[0m val_logs \u001b[39m=\u001b[39m \u001b[39mself\u001b[39;49m\u001b[39m.\u001b[39;49mevaluate(\n\u001b[1;32m   <a href='file:///Users/satyamvatts/miniforge3/envs/mlp/lib/python3.8/site-packages/keras/engine/training.py?line=1420'>1421</a>\u001b[0m     x\u001b[39m=\u001b[39;49mval_x,\n\u001b[1;32m   <a href='file:///Users/satyamvatts/miniforge3/envs/mlp/lib/python3.8/site-packages/keras/engine/training.py?line=1421'>1422</a>\u001b[0m     y\u001b[39m=\u001b[39;49mval_y,\n\u001b[1;32m   <a href='file:///Users/satyamvatts/miniforge3/envs/mlp/lib/python3.8/site-packages/keras/engine/training.py?line=1422'>1423</a>\u001b[0m     sample_weight\u001b[39m=\u001b[39;49mval_sample_weight,\n\u001b[1;32m   <a href='file:///Users/satyamvatts/miniforge3/envs/mlp/lib/python3.8/site-packages/keras/engine/training.py?line=1423'>1424</a>\u001b[0m     batch_size\u001b[39m=\u001b[39;49mvalidation_batch_size \u001b[39mor\u001b[39;49;00m batch_size,\n\u001b[1;32m   <a href='file:///Users/satyamvatts/miniforge3/envs/mlp/lib/python3.8/site-packages/keras/engine/training.py?line=1424'>1425</a>\u001b[0m     steps\u001b[39m=\u001b[39;49mvalidation_steps,\n\u001b[1;32m   <a href='file:///Users/satyamvatts/miniforge3/envs/mlp/lib/python3.8/site-packages/keras/engine/training.py?line=1425'>1426</a>\u001b[0m     callbacks\u001b[39m=\u001b[39;49mcallbacks,\n\u001b[1;32m   <a href='file:///Users/satyamvatts/miniforge3/envs/mlp/lib/python3.8/site-packages/keras/engine/training.py?line=1426'>1427</a>\u001b[0m     max_queue_size\u001b[39m=\u001b[39;49mmax_queue_size,\n\u001b[1;32m   <a href='file:///Users/satyamvatts/miniforge3/envs/mlp/lib/python3.8/site-packages/keras/engine/training.py?line=1427'>1428</a>\u001b[0m     workers\u001b[39m=\u001b[39;49mworkers,\n\u001b[1;32m   <a href='file:///Users/satyamvatts/miniforge3/envs/mlp/lib/python3.8/site-packages/keras/engine/training.py?line=1428'>1429</a>\u001b[0m     use_multiprocessing\u001b[39m=\u001b[39;49muse_multiprocessing,\n\u001b[1;32m   <a href='file:///Users/satyamvatts/miniforge3/envs/mlp/lib/python3.8/site-packages/keras/engine/training.py?line=1429'>1430</a>\u001b[0m     return_dict\u001b[39m=\u001b[39;49m\u001b[39mTrue\u001b[39;49;00m,\n\u001b[1;32m   <a href='file:///Users/satyamvatts/miniforge3/envs/mlp/lib/python3.8/site-packages/keras/engine/training.py?line=1430'>1431</a>\u001b[0m     _use_cached_eval_dataset\u001b[39m=\u001b[39;49m\u001b[39mTrue\u001b[39;49;00m)\n\u001b[1;32m   <a href='file:///Users/satyamvatts/miniforge3/envs/mlp/lib/python3.8/site-packages/keras/engine/training.py?line=1431'>1432</a>\u001b[0m val_logs \u001b[39m=\u001b[39m {\u001b[39m'\u001b[39m\u001b[39mval_\u001b[39m\u001b[39m'\u001b[39m \u001b[39m+\u001b[39m name: val \u001b[39mfor\u001b[39;00m name, val \u001b[39min\u001b[39;00m val_logs\u001b[39m.\u001b[39mitems()}\n\u001b[1;32m   <a href='file:///Users/satyamvatts/miniforge3/envs/mlp/lib/python3.8/site-packages/keras/engine/training.py?line=1432'>1433</a>\u001b[0m epoch_logs\u001b[39m.\u001b[39mupdate(val_logs)\n",
      "File \u001b[0;32m~/miniforge3/envs/mlp/lib/python3.8/site-packages/keras/utils/traceback_utils.py:64\u001b[0m, in \u001b[0;36mfilter_traceback.<locals>.error_handler\u001b[0;34m(*args, **kwargs)\u001b[0m\n\u001b[1;32m     <a href='file:///Users/satyamvatts/miniforge3/envs/mlp/lib/python3.8/site-packages/keras/utils/traceback_utils.py?line=61'>62</a>\u001b[0m filtered_tb \u001b[39m=\u001b[39m \u001b[39mNone\u001b[39;00m\n\u001b[1;32m     <a href='file:///Users/satyamvatts/miniforge3/envs/mlp/lib/python3.8/site-packages/keras/utils/traceback_utils.py?line=62'>63</a>\u001b[0m \u001b[39mtry\u001b[39;00m:\n\u001b[0;32m---> <a href='file:///Users/satyamvatts/miniforge3/envs/mlp/lib/python3.8/site-packages/keras/utils/traceback_utils.py?line=63'>64</a>\u001b[0m   \u001b[39mreturn\u001b[39;00m fn(\u001b[39m*\u001b[39;49margs, \u001b[39m*\u001b[39;49m\u001b[39m*\u001b[39;49mkwargs)\n\u001b[1;32m     <a href='file:///Users/satyamvatts/miniforge3/envs/mlp/lib/python3.8/site-packages/keras/utils/traceback_utils.py?line=64'>65</a>\u001b[0m \u001b[39mexcept\u001b[39;00m \u001b[39mException\u001b[39;00m \u001b[39mas\u001b[39;00m e:  \u001b[39m# pylint: disable=broad-except\u001b[39;00m\n\u001b[1;32m     <a href='file:///Users/satyamvatts/miniforge3/envs/mlp/lib/python3.8/site-packages/keras/utils/traceback_utils.py?line=65'>66</a>\u001b[0m   filtered_tb \u001b[39m=\u001b[39m _process_traceback_frames(e\u001b[39m.\u001b[39m__traceback__)\n",
      "File \u001b[0;32m~/miniforge3/envs/mlp/lib/python3.8/site-packages/keras/engine/training.py:1716\u001b[0m, in \u001b[0;36mModel.evaluate\u001b[0;34m(self, x, y, batch_size, verbose, sample_weight, steps, callbacks, max_queue_size, workers, use_multiprocessing, return_dict, **kwargs)\u001b[0m\n\u001b[1;32m   <a href='file:///Users/satyamvatts/miniforge3/envs/mlp/lib/python3.8/site-packages/keras/engine/training.py?line=1713'>1714</a>\u001b[0m \u001b[39mwith\u001b[39;00m tf\u001b[39m.\u001b[39mprofiler\u001b[39m.\u001b[39mexperimental\u001b[39m.\u001b[39mTrace(\u001b[39m'\u001b[39m\u001b[39mtest\u001b[39m\u001b[39m'\u001b[39m, step_num\u001b[39m=\u001b[39mstep, _r\u001b[39m=\u001b[39m\u001b[39m1\u001b[39m):\n\u001b[1;32m   <a href='file:///Users/satyamvatts/miniforge3/envs/mlp/lib/python3.8/site-packages/keras/engine/training.py?line=1714'>1715</a>\u001b[0m   callbacks\u001b[39m.\u001b[39mon_test_batch_begin(step)\n\u001b[0;32m-> <a href='file:///Users/satyamvatts/miniforge3/envs/mlp/lib/python3.8/site-packages/keras/engine/training.py?line=1715'>1716</a>\u001b[0m   tmp_logs \u001b[39m=\u001b[39m \u001b[39mself\u001b[39;49m\u001b[39m.\u001b[39;49mtest_function(iterator)\n\u001b[1;32m   <a href='file:///Users/satyamvatts/miniforge3/envs/mlp/lib/python3.8/site-packages/keras/engine/training.py?line=1716'>1717</a>\u001b[0m   \u001b[39mif\u001b[39;00m data_handler\u001b[39m.\u001b[39mshould_sync:\n\u001b[1;32m   <a href='file:///Users/satyamvatts/miniforge3/envs/mlp/lib/python3.8/site-packages/keras/engine/training.py?line=1717'>1718</a>\u001b[0m     context\u001b[39m.\u001b[39masync_wait()\n",
      "File \u001b[0;32m~/miniforge3/envs/mlp/lib/python3.8/site-packages/tensorflow/python/util/traceback_utils.py:150\u001b[0m, in \u001b[0;36mfilter_traceback.<locals>.error_handler\u001b[0;34m(*args, **kwargs)\u001b[0m\n\u001b[1;32m    <a href='file:///Users/satyamvatts/miniforge3/envs/mlp/lib/python3.8/site-packages/tensorflow/python/util/traceback_utils.py?line=147'>148</a>\u001b[0m filtered_tb \u001b[39m=\u001b[39m \u001b[39mNone\u001b[39;00m\n\u001b[1;32m    <a href='file:///Users/satyamvatts/miniforge3/envs/mlp/lib/python3.8/site-packages/tensorflow/python/util/traceback_utils.py?line=148'>149</a>\u001b[0m \u001b[39mtry\u001b[39;00m:\n\u001b[0;32m--> <a href='file:///Users/satyamvatts/miniforge3/envs/mlp/lib/python3.8/site-packages/tensorflow/python/util/traceback_utils.py?line=149'>150</a>\u001b[0m   \u001b[39mreturn\u001b[39;00m fn(\u001b[39m*\u001b[39;49margs, \u001b[39m*\u001b[39;49m\u001b[39m*\u001b[39;49mkwargs)\n\u001b[1;32m    <a href='file:///Users/satyamvatts/miniforge3/envs/mlp/lib/python3.8/site-packages/tensorflow/python/util/traceback_utils.py?line=150'>151</a>\u001b[0m \u001b[39mexcept\u001b[39;00m \u001b[39mException\u001b[39;00m \u001b[39mas\u001b[39;00m e:\n\u001b[1;32m    <a href='file:///Users/satyamvatts/miniforge3/envs/mlp/lib/python3.8/site-packages/tensorflow/python/util/traceback_utils.py?line=151'>152</a>\u001b[0m   filtered_tb \u001b[39m=\u001b[39m _process_traceback_frames(e\u001b[39m.\u001b[39m__traceback__)\n",
      "File \u001b[0;32m~/miniforge3/envs/mlp/lib/python3.8/site-packages/tensorflow/python/eager/def_function.py:915\u001b[0m, in \u001b[0;36mFunction.__call__\u001b[0;34m(self, *args, **kwds)\u001b[0m\n\u001b[1;32m    <a href='file:///Users/satyamvatts/miniforge3/envs/mlp/lib/python3.8/site-packages/tensorflow/python/eager/def_function.py?line=911'>912</a>\u001b[0m compiler \u001b[39m=\u001b[39m \u001b[39m\"\u001b[39m\u001b[39mxla\u001b[39m\u001b[39m\"\u001b[39m \u001b[39mif\u001b[39;00m \u001b[39mself\u001b[39m\u001b[39m.\u001b[39m_jit_compile \u001b[39melse\u001b[39;00m \u001b[39m\"\u001b[39m\u001b[39mnonXla\u001b[39m\u001b[39m\"\u001b[39m\n\u001b[1;32m    <a href='file:///Users/satyamvatts/miniforge3/envs/mlp/lib/python3.8/site-packages/tensorflow/python/eager/def_function.py?line=913'>914</a>\u001b[0m \u001b[39mwith\u001b[39;00m OptionalXlaContext(\u001b[39mself\u001b[39m\u001b[39m.\u001b[39m_jit_compile):\n\u001b[0;32m--> <a href='file:///Users/satyamvatts/miniforge3/envs/mlp/lib/python3.8/site-packages/tensorflow/python/eager/def_function.py?line=914'>915</a>\u001b[0m   result \u001b[39m=\u001b[39m \u001b[39mself\u001b[39;49m\u001b[39m.\u001b[39;49m_call(\u001b[39m*\u001b[39;49margs, \u001b[39m*\u001b[39;49m\u001b[39m*\u001b[39;49mkwds)\n\u001b[1;32m    <a href='file:///Users/satyamvatts/miniforge3/envs/mlp/lib/python3.8/site-packages/tensorflow/python/eager/def_function.py?line=916'>917</a>\u001b[0m new_tracing_count \u001b[39m=\u001b[39m \u001b[39mself\u001b[39m\u001b[39m.\u001b[39mexperimental_get_tracing_count()\n\u001b[1;32m    <a href='file:///Users/satyamvatts/miniforge3/envs/mlp/lib/python3.8/site-packages/tensorflow/python/eager/def_function.py?line=917'>918</a>\u001b[0m without_tracing \u001b[39m=\u001b[39m (tracing_count \u001b[39m==\u001b[39m new_tracing_count)\n",
      "File \u001b[0;32m~/miniforge3/envs/mlp/lib/python3.8/site-packages/tensorflow/python/eager/def_function.py:954\u001b[0m, in \u001b[0;36mFunction._call\u001b[0;34m(self, *args, **kwds)\u001b[0m\n\u001b[1;32m    <a href='file:///Users/satyamvatts/miniforge3/envs/mlp/lib/python3.8/site-packages/tensorflow/python/eager/def_function.py?line=950'>951</a>\u001b[0m \u001b[39mself\u001b[39m\u001b[39m.\u001b[39m_lock\u001b[39m.\u001b[39mrelease()\n\u001b[1;32m    <a href='file:///Users/satyamvatts/miniforge3/envs/mlp/lib/python3.8/site-packages/tensorflow/python/eager/def_function.py?line=951'>952</a>\u001b[0m \u001b[39m# In this case we have not created variables on the first call. So we can\u001b[39;00m\n\u001b[1;32m    <a href='file:///Users/satyamvatts/miniforge3/envs/mlp/lib/python3.8/site-packages/tensorflow/python/eager/def_function.py?line=952'>953</a>\u001b[0m \u001b[39m# run the first trace but we should fail if variables are created.\u001b[39;00m\n\u001b[0;32m--> <a href='file:///Users/satyamvatts/miniforge3/envs/mlp/lib/python3.8/site-packages/tensorflow/python/eager/def_function.py?line=953'>954</a>\u001b[0m results \u001b[39m=\u001b[39m \u001b[39mself\u001b[39;49m\u001b[39m.\u001b[39;49m_stateful_fn(\u001b[39m*\u001b[39;49margs, \u001b[39m*\u001b[39;49m\u001b[39m*\u001b[39;49mkwds)\n\u001b[1;32m    <a href='file:///Users/satyamvatts/miniforge3/envs/mlp/lib/python3.8/site-packages/tensorflow/python/eager/def_function.py?line=954'>955</a>\u001b[0m \u001b[39mif\u001b[39;00m \u001b[39mself\u001b[39m\u001b[39m.\u001b[39m_created_variables \u001b[39mand\u001b[39;00m \u001b[39mnot\u001b[39;00m ALLOW_DYNAMIC_VARIABLE_CREATION:\n\u001b[1;32m    <a href='file:///Users/satyamvatts/miniforge3/envs/mlp/lib/python3.8/site-packages/tensorflow/python/eager/def_function.py?line=955'>956</a>\u001b[0m   \u001b[39mraise\u001b[39;00m \u001b[39mValueError\u001b[39;00m(\u001b[39m\"\u001b[39m\u001b[39mCreating variables on a non-first call to a function\u001b[39m\u001b[39m\"\u001b[39m\n\u001b[1;32m    <a href='file:///Users/satyamvatts/miniforge3/envs/mlp/lib/python3.8/site-packages/tensorflow/python/eager/def_function.py?line=956'>957</a>\u001b[0m                    \u001b[39m\"\u001b[39m\u001b[39m decorated with tf.function.\u001b[39m\u001b[39m\"\u001b[39m)\n",
      "File \u001b[0;32m~/miniforge3/envs/mlp/lib/python3.8/site-packages/tensorflow/python/eager/function.py:2956\u001b[0m, in \u001b[0;36mFunction.__call__\u001b[0;34m(self, *args, **kwargs)\u001b[0m\n\u001b[1;32m   <a href='file:///Users/satyamvatts/miniforge3/envs/mlp/lib/python3.8/site-packages/tensorflow/python/eager/function.py?line=2952'>2953</a>\u001b[0m \u001b[39mwith\u001b[39;00m \u001b[39mself\u001b[39m\u001b[39m.\u001b[39m_lock:\n\u001b[1;32m   <a href='file:///Users/satyamvatts/miniforge3/envs/mlp/lib/python3.8/site-packages/tensorflow/python/eager/function.py?line=2953'>2954</a>\u001b[0m   (graph_function,\n\u001b[1;32m   <a href='file:///Users/satyamvatts/miniforge3/envs/mlp/lib/python3.8/site-packages/tensorflow/python/eager/function.py?line=2954'>2955</a>\u001b[0m    filtered_flat_args) \u001b[39m=\u001b[39m \u001b[39mself\u001b[39m\u001b[39m.\u001b[39m_maybe_define_function(args, kwargs)\n\u001b[0;32m-> <a href='file:///Users/satyamvatts/miniforge3/envs/mlp/lib/python3.8/site-packages/tensorflow/python/eager/function.py?line=2955'>2956</a>\u001b[0m \u001b[39mreturn\u001b[39;00m graph_function\u001b[39m.\u001b[39;49m_call_flat(\n\u001b[1;32m   <a href='file:///Users/satyamvatts/miniforge3/envs/mlp/lib/python3.8/site-packages/tensorflow/python/eager/function.py?line=2956'>2957</a>\u001b[0m     filtered_flat_args, captured_inputs\u001b[39m=\u001b[39;49mgraph_function\u001b[39m.\u001b[39;49mcaptured_inputs)\n",
      "File \u001b[0;32m~/miniforge3/envs/mlp/lib/python3.8/site-packages/tensorflow/python/eager/function.py:1853\u001b[0m, in \u001b[0;36mConcreteFunction._call_flat\u001b[0;34m(self, args, captured_inputs, cancellation_manager)\u001b[0m\n\u001b[1;32m   <a href='file:///Users/satyamvatts/miniforge3/envs/mlp/lib/python3.8/site-packages/tensorflow/python/eager/function.py?line=1848'>1849</a>\u001b[0m possible_gradient_type \u001b[39m=\u001b[39m gradients_util\u001b[39m.\u001b[39mPossibleTapeGradientTypes(args)\n\u001b[1;32m   <a href='file:///Users/satyamvatts/miniforge3/envs/mlp/lib/python3.8/site-packages/tensorflow/python/eager/function.py?line=1849'>1850</a>\u001b[0m \u001b[39mif\u001b[39;00m (possible_gradient_type \u001b[39m==\u001b[39m gradients_util\u001b[39m.\u001b[39mPOSSIBLE_GRADIENT_TYPES_NONE\n\u001b[1;32m   <a href='file:///Users/satyamvatts/miniforge3/envs/mlp/lib/python3.8/site-packages/tensorflow/python/eager/function.py?line=1850'>1851</a>\u001b[0m     \u001b[39mand\u001b[39;00m executing_eagerly):\n\u001b[1;32m   <a href='file:///Users/satyamvatts/miniforge3/envs/mlp/lib/python3.8/site-packages/tensorflow/python/eager/function.py?line=1851'>1852</a>\u001b[0m   \u001b[39m# No tape is watching; skip to running the function.\u001b[39;00m\n\u001b[0;32m-> <a href='file:///Users/satyamvatts/miniforge3/envs/mlp/lib/python3.8/site-packages/tensorflow/python/eager/function.py?line=1852'>1853</a>\u001b[0m   \u001b[39mreturn\u001b[39;00m \u001b[39mself\u001b[39m\u001b[39m.\u001b[39m_build_call_outputs(\u001b[39mself\u001b[39;49m\u001b[39m.\u001b[39;49m_inference_function\u001b[39m.\u001b[39;49mcall(\n\u001b[1;32m   <a href='file:///Users/satyamvatts/miniforge3/envs/mlp/lib/python3.8/site-packages/tensorflow/python/eager/function.py?line=1853'>1854</a>\u001b[0m       ctx, args, cancellation_manager\u001b[39m=\u001b[39;49mcancellation_manager))\n\u001b[1;32m   <a href='file:///Users/satyamvatts/miniforge3/envs/mlp/lib/python3.8/site-packages/tensorflow/python/eager/function.py?line=1854'>1855</a>\u001b[0m forward_backward \u001b[39m=\u001b[39m \u001b[39mself\u001b[39m\u001b[39m.\u001b[39m_select_forward_and_backward_functions(\n\u001b[1;32m   <a href='file:///Users/satyamvatts/miniforge3/envs/mlp/lib/python3.8/site-packages/tensorflow/python/eager/function.py?line=1855'>1856</a>\u001b[0m     args,\n\u001b[1;32m   <a href='file:///Users/satyamvatts/miniforge3/envs/mlp/lib/python3.8/site-packages/tensorflow/python/eager/function.py?line=1856'>1857</a>\u001b[0m     possible_gradient_type,\n\u001b[1;32m   <a href='file:///Users/satyamvatts/miniforge3/envs/mlp/lib/python3.8/site-packages/tensorflow/python/eager/function.py?line=1857'>1858</a>\u001b[0m     executing_eagerly)\n\u001b[1;32m   <a href='file:///Users/satyamvatts/miniforge3/envs/mlp/lib/python3.8/site-packages/tensorflow/python/eager/function.py?line=1858'>1859</a>\u001b[0m forward_function, args_with_tangents \u001b[39m=\u001b[39m forward_backward\u001b[39m.\u001b[39mforward()\n",
      "File \u001b[0;32m~/miniforge3/envs/mlp/lib/python3.8/site-packages/tensorflow/python/eager/function.py:499\u001b[0m, in \u001b[0;36m_EagerDefinedFunction.call\u001b[0;34m(self, ctx, args, cancellation_manager)\u001b[0m\n\u001b[1;32m    <a href='file:///Users/satyamvatts/miniforge3/envs/mlp/lib/python3.8/site-packages/tensorflow/python/eager/function.py?line=496'>497</a>\u001b[0m \u001b[39mwith\u001b[39;00m _InterpolateFunctionError(\u001b[39mself\u001b[39m):\n\u001b[1;32m    <a href='file:///Users/satyamvatts/miniforge3/envs/mlp/lib/python3.8/site-packages/tensorflow/python/eager/function.py?line=497'>498</a>\u001b[0m   \u001b[39mif\u001b[39;00m cancellation_manager \u001b[39mis\u001b[39;00m \u001b[39mNone\u001b[39;00m:\n\u001b[0;32m--> <a href='file:///Users/satyamvatts/miniforge3/envs/mlp/lib/python3.8/site-packages/tensorflow/python/eager/function.py?line=498'>499</a>\u001b[0m     outputs \u001b[39m=\u001b[39m execute\u001b[39m.\u001b[39;49mexecute(\n\u001b[1;32m    <a href='file:///Users/satyamvatts/miniforge3/envs/mlp/lib/python3.8/site-packages/tensorflow/python/eager/function.py?line=499'>500</a>\u001b[0m         \u001b[39mstr\u001b[39;49m(\u001b[39mself\u001b[39;49m\u001b[39m.\u001b[39;49msignature\u001b[39m.\u001b[39;49mname),\n\u001b[1;32m    <a href='file:///Users/satyamvatts/miniforge3/envs/mlp/lib/python3.8/site-packages/tensorflow/python/eager/function.py?line=500'>501</a>\u001b[0m         num_outputs\u001b[39m=\u001b[39;49m\u001b[39mself\u001b[39;49m\u001b[39m.\u001b[39;49m_num_outputs,\n\u001b[1;32m    <a href='file:///Users/satyamvatts/miniforge3/envs/mlp/lib/python3.8/site-packages/tensorflow/python/eager/function.py?line=501'>502</a>\u001b[0m         inputs\u001b[39m=\u001b[39;49margs,\n\u001b[1;32m    <a href='file:///Users/satyamvatts/miniforge3/envs/mlp/lib/python3.8/site-packages/tensorflow/python/eager/function.py?line=502'>503</a>\u001b[0m         attrs\u001b[39m=\u001b[39;49mattrs,\n\u001b[1;32m    <a href='file:///Users/satyamvatts/miniforge3/envs/mlp/lib/python3.8/site-packages/tensorflow/python/eager/function.py?line=503'>504</a>\u001b[0m         ctx\u001b[39m=\u001b[39;49mctx)\n\u001b[1;32m    <a href='file:///Users/satyamvatts/miniforge3/envs/mlp/lib/python3.8/site-packages/tensorflow/python/eager/function.py?line=504'>505</a>\u001b[0m   \u001b[39melse\u001b[39;00m:\n\u001b[1;32m    <a href='file:///Users/satyamvatts/miniforge3/envs/mlp/lib/python3.8/site-packages/tensorflow/python/eager/function.py?line=505'>506</a>\u001b[0m     outputs \u001b[39m=\u001b[39m execute\u001b[39m.\u001b[39mexecute_with_cancellation(\n\u001b[1;32m    <a href='file:///Users/satyamvatts/miniforge3/envs/mlp/lib/python3.8/site-packages/tensorflow/python/eager/function.py?line=506'>507</a>\u001b[0m         \u001b[39mstr\u001b[39m(\u001b[39mself\u001b[39m\u001b[39m.\u001b[39msignature\u001b[39m.\u001b[39mname),\n\u001b[1;32m    <a href='file:///Users/satyamvatts/miniforge3/envs/mlp/lib/python3.8/site-packages/tensorflow/python/eager/function.py?line=507'>508</a>\u001b[0m         num_outputs\u001b[39m=\u001b[39m\u001b[39mself\u001b[39m\u001b[39m.\u001b[39m_num_outputs,\n\u001b[0;32m   (...)\u001b[0m\n\u001b[1;32m    <a href='file:///Users/satyamvatts/miniforge3/envs/mlp/lib/python3.8/site-packages/tensorflow/python/eager/function.py?line=510'>511</a>\u001b[0m         ctx\u001b[39m=\u001b[39mctx,\n\u001b[1;32m    <a href='file:///Users/satyamvatts/miniforge3/envs/mlp/lib/python3.8/site-packages/tensorflow/python/eager/function.py?line=511'>512</a>\u001b[0m         cancellation_manager\u001b[39m=\u001b[39mcancellation_manager)\n",
      "File \u001b[0;32m~/miniforge3/envs/mlp/lib/python3.8/site-packages/tensorflow/python/eager/execute.py:54\u001b[0m, in \u001b[0;36mquick_execute\u001b[0;34m(op_name, num_outputs, inputs, attrs, ctx, name)\u001b[0m\n\u001b[1;32m     <a href='file:///Users/satyamvatts/miniforge3/envs/mlp/lib/python3.8/site-packages/tensorflow/python/eager/execute.py?line=51'>52</a>\u001b[0m \u001b[39mtry\u001b[39;00m:\n\u001b[1;32m     <a href='file:///Users/satyamvatts/miniforge3/envs/mlp/lib/python3.8/site-packages/tensorflow/python/eager/execute.py?line=52'>53</a>\u001b[0m   ctx\u001b[39m.\u001b[39mensure_initialized()\n\u001b[0;32m---> <a href='file:///Users/satyamvatts/miniforge3/envs/mlp/lib/python3.8/site-packages/tensorflow/python/eager/execute.py?line=53'>54</a>\u001b[0m   tensors \u001b[39m=\u001b[39m pywrap_tfe\u001b[39m.\u001b[39;49mTFE_Py_Execute(ctx\u001b[39m.\u001b[39;49m_handle, device_name, op_name,\n\u001b[1;32m     <a href='file:///Users/satyamvatts/miniforge3/envs/mlp/lib/python3.8/site-packages/tensorflow/python/eager/execute.py?line=54'>55</a>\u001b[0m                                       inputs, attrs, num_outputs)\n\u001b[1;32m     <a href='file:///Users/satyamvatts/miniforge3/envs/mlp/lib/python3.8/site-packages/tensorflow/python/eager/execute.py?line=55'>56</a>\u001b[0m \u001b[39mexcept\u001b[39;00m core\u001b[39m.\u001b[39m_NotOkStatusException \u001b[39mas\u001b[39;00m e:\n\u001b[1;32m     <a href='file:///Users/satyamvatts/miniforge3/envs/mlp/lib/python3.8/site-packages/tensorflow/python/eager/execute.py?line=56'>57</a>\u001b[0m   \u001b[39mif\u001b[39;00m name \u001b[39mis\u001b[39;00m \u001b[39mnot\u001b[39;00m \u001b[39mNone\u001b[39;00m:\n",
      "\u001b[0;31mKeyboardInterrupt\u001b[0m: "
     ]
    }
   ],
   "source": [
    "# Train and evaluate our model\n",
    "history = model.fit(train_dataset,  \n",
    "                    steps_per_epoch = STEPS_PER_EPOCH,\n",
    "                    # validation_steps=validation_generator.samples//BATCH_SIZE,\n",
    "                    epochs = 2,\n",
    "                    validation_data = val_dataset,\n",
    "                    verbose=1\n",
    "                    )"
   ]
  },
  {
   "cell_type": "code",
   "execution_count": null,
   "metadata": {},
   "outputs": [],
   "source": [
    "# Try with 32x32.\n"
   ]
  },
  {
   "cell_type": "code",
   "execution_count": 216,
   "metadata": {},
   "outputs": [],
   "source": [
    "NUM_EMBEDDING_DIMENSIONS = 512\n",
    "DATASET_DIR = 'landmark-recognition-2020/train_encoded.csv'\n",
    "TEST_IMAGE_DIR = 'landmark-recognition-2020/test'\n",
    "TRAIN_IMAGE_DIR = 'landmark-recognition-2020/train'\n",
    "MODEL1 = model\n",
    "MODEL1 = tf.keras.models.Model(inputs = MODEL1.input[0], outputs = MODEL1.layers[-4].output)\n",
    "NUM_TO_RERANK = 1\n",
    "NUM_PUBLIC_TEST_IMAGES = 10345 # Used to detect if in session or re-run."
   ]
  },
  {
   "cell_type": "code",
   "execution_count": 225,
   "metadata": {},
   "outputs": [],
   "source": [
    "\n",
    "# Read image and resize it\n",
    "def read_image(image_path, size = (384, 384)):\n",
    "    img = cv2.imread(image_path)\n",
    "    img = cv2.cvtColor(img, cv2.COLOR_BGR2RGB)\n",
    "    img = cv2.resize(img, size)\n",
    "    img = cv2.imencode('.jpg', img, (cv2.IMWRITE_JPEG_QUALITY, 100))[1].tostring()\n",
    "    img = tf.image.decode_jpeg(img, channels = 3)\n",
    "    img = tf.image.resize(img, (384, 384))\n",
    "    img = tf.cast(img, tf.float32) / 255.0\n",
    "    img = tf.reshape(img, [1, 384, 384, 3])\n",
    "    return img\n",
    "\n",
    "# Function to get training and test embeddings\n",
    "def generate_embeddings(filepaths):\n",
    "    image_paths = [x for x in pathlib.Path(filepaths).rglob('*.jpg')][:100]\n",
    "    num_images = len(image_paths)\n",
    "    ids = num_images * [None]\n",
    "    # Generate an empty matrix where we can store the embeddings of each image\n",
    "    embeddings = np.empty((num_images, NUM_EMBEDDING_DIMENSIONS))\n",
    "    for i, image_path in enumerate(image_paths):\n",
    "        ids[i] = image_path.name.split('.')[0]\n",
    "        image_tensor = read_image(str(image_path), (384, 384))\n",
    "        prediction = MODEL1.predict(image_tensor)\n",
    "        embeddings[i, :] = prediction\n",
    "    return ids, embeddings\n",
    "\n",
    "# This function get the most similar train images for each test image based on cosine similarity\n",
    "def get_similarities(train_csv, test_directory, train_directory):\n",
    "    # Get target dictionary\n",
    "    df = pd.read_csv(train_csv)\n",
    "    df = df[['id', 'landmark_id']]\n",
    "    df.set_index('id', inplace = True)\n",
    "    df = df.to_dict()['landmark_id']\n",
    "    # Extract the test ids and global feature for the test images\n",
    "    test_ids, test_embeddings = generate_embeddings(test_directory)\n",
    "    # Extract the train ids and global features for the train images\n",
    "    train_ids, train_embeddings = generate_embeddings(train_directory)\n",
    "    # Initiate a list were we will store the similar training images for each test image (also score)\n",
    "    train_ids_labels_and_scores = [None] * test_embeddings.shape[0]\n",
    "    # Using (slow) for-loop, as distance matrix doesn't fit in memory\n",
    "    for test_index in range(test_embeddings.shape[0]):\n",
    "        distances = spatial.distance.cdist(\n",
    "            test_embeddings[np.newaxis, test_index, : ], train_embeddings, 'cosine')[0]\n",
    "        # Get the indices of the closest images\n",
    "        top_k = np.argpartition(distances, NUM_TO_RERANK)[:NUM_TO_RERANK]\n",
    "        # Get the nearest ids and distances using the previous indices\n",
    "        nearest = sorted([(train_ids[p], distances[p]) for p in top_k], key = lambda x: x[1])\n",
    "        # Get the labels and score results\n",
    "        train_ids_labels_and_scores[test_index] = [(df[train_id], 1.0 - cosine_distance) for \\\n",
    "                                                   train_id, cosine_distance in nearest]\n",
    "        \n",
    "    del test_embeddings\n",
    "    del train_embeddings\n",
    "    gc.collect()\n",
    "    return test_ids, train_ids_labels_and_scores\n",
    "\n",
    "# This function aggregate top simlarities and make predictions\n",
    "def generate_predictions(test_ids, train_ids_labels_and_scores):\n",
    "    targets = []\n",
    "    scores = []\n",
    "    \n",
    "    # Iterate through each test id\n",
    "    for test_index, test_id in enumerate(test_ids):\n",
    "        aggregate_scores = {}\n",
    "        # Iterate through the similar images with their corresponing score for the given test image\n",
    "        for target, score in train_ids_labels_and_scores[test_index]:\n",
    "            if target not in aggregate_scores:\n",
    "                aggregate_scores[target] = 0\n",
    "            aggregate_scores[target] += score\n",
    "        # Get the best score\n",
    "        target, score = max(aggregate_scores.items(), key = operator.itemgetter(1))\n",
    "        targets.append(target)\n",
    "        scores.append(score)\n",
    "        \n",
    "    final = pd.DataFrame({'id': test_ids, 'target': targets, 'scores': scores})\n",
    "    final['landmarks'] = final['target'].astype(str) + ' ' + final['scores'].astype(str)\n",
    "    final[['id', 'landmarks']].to_csv('submission.csv', index = False)\n",
    "    return final"
   ]
  },
  {
   "cell_type": "code",
   "execution_count": 226,
   "metadata": {},
   "outputs": [],
   "source": [
    "image_paths = [x for x in pathlib.Path(TEST_IMAGE_DIR).rglob('*.jpg')]"
   ]
  },
  {
   "cell_type": "code",
   "execution_count": 227,
   "metadata": {},
   "outputs": [
    {
     "data": {
      "text/plain": [
       "10345"
      ]
     },
     "execution_count": 227,
     "metadata": {},
     "output_type": "execute_result"
    }
   ],
   "source": [
    "test_len = len(image_paths)\n",
    "test_len"
   ]
  },
  {
   "cell_type": "code",
   "execution_count": 229,
   "metadata": {},
   "outputs": [
    {
     "name": "stderr",
     "output_type": "stream",
     "text": [
      "/var/folders/g6/xjmqzxt515z147xzc4yys5j40000gn/T/ipykernel_72269/2949431491.py:6: DeprecationWarning: tostring() is deprecated. Use tobytes() instead.\n",
      "  img = cv2.imencode('.jpg', img, (cv2.IMWRITE_JPEG_QUALITY, 100))[1].tostring()\n"
     ]
    }
   ],
   "source": [
    "test_ids, train_ids_labels_and_scores = get_similarities(DATASET_DIR, TEST_IMAGE_DIR, TRAIN_IMAGE_DIR)"
   ]
  },
  {
   "cell_type": "code",
   "execution_count": 230,
   "metadata": {},
   "outputs": [],
   "source": [
    "final = generate_predictions(test_ids, train_ids_labels_and_scores)"
   ]
  },
  {
   "cell_type": "code",
   "execution_count": 231,
   "metadata": {},
   "outputs": [
    {
     "data": {
      "text/html": [
       "<div>\n",
       "<style scoped>\n",
       "    .dataframe tbody tr th:only-of-type {\n",
       "        vertical-align: middle;\n",
       "    }\n",
       "\n",
       "    .dataframe tbody tr th {\n",
       "        vertical-align: top;\n",
       "    }\n",
       "\n",
       "    .dataframe thead th {\n",
       "        text-align: right;\n",
       "    }\n",
       "</style>\n",
       "<table border=\"1\" class=\"dataframe\">\n",
       "  <thead>\n",
       "    <tr style=\"text-align: right;\">\n",
       "      <th></th>\n",
       "      <th>id</th>\n",
       "      <th>target</th>\n",
       "      <th>scores</th>\n",
       "      <th>landmarks</th>\n",
       "    </tr>\n",
       "  </thead>\n",
       "  <tbody>\n",
       "    <tr>\n",
       "      <th>0</th>\n",
       "      <td>999dceaeeed8caf9</td>\n",
       "      <td>3835</td>\n",
       "      <td>0.313815</td>\n",
       "      <td>3835 0.31381453276392346</td>\n",
       "    </tr>\n",
       "    <tr>\n",
       "      <th>1</th>\n",
       "      <td>990255f7964cf539</td>\n",
       "      <td>132505</td>\n",
       "      <td>0.376544</td>\n",
       "      <td>132505 0.37654368407135674</td>\n",
       "    </tr>\n",
       "    <tr>\n",
       "      <th>2</th>\n",
       "      <td>990b80c71118df0a</td>\n",
       "      <td>117623</td>\n",
       "      <td>0.432461</td>\n",
       "      <td>117623 0.4324607164613049</td>\n",
       "    </tr>\n",
       "    <tr>\n",
       "      <th>3</th>\n",
       "      <td>997a84232ec25a53</td>\n",
       "      <td>33992</td>\n",
       "      <td>0.353848</td>\n",
       "      <td>33992 0.35384802615999456</td>\n",
       "    </tr>\n",
       "    <tr>\n",
       "      <th>4</th>\n",
       "      <td>997f68d90399dbe0</td>\n",
       "      <td>97345</td>\n",
       "      <td>0.520745</td>\n",
       "      <td>97345 0.5207448350738543</td>\n",
       "    </tr>\n",
       "    <tr>\n",
       "      <th>...</th>\n",
       "      <td>...</td>\n",
       "      <td>...</td>\n",
       "      <td>...</td>\n",
       "      <td>...</td>\n",
       "    </tr>\n",
       "    <tr>\n",
       "      <th>95</th>\n",
       "      <td>97dc0313f1693828</td>\n",
       "      <td>43728</td>\n",
       "      <td>0.301886</td>\n",
       "      <td>43728 0.30188577806035166</td>\n",
       "    </tr>\n",
       "    <tr>\n",
       "      <th>96</th>\n",
       "      <td>974867f7466fe7d9</td>\n",
       "      <td>136684</td>\n",
       "      <td>0.357139</td>\n",
       "      <td>136684 0.3571387137544382</td>\n",
       "    </tr>\n",
       "    <tr>\n",
       "      <th>97</th>\n",
       "      <td>9742af625b2f2b36</td>\n",
       "      <td>93712</td>\n",
       "      <td>0.501953</td>\n",
       "      <td>93712 0.5019533949269013</td>\n",
       "    </tr>\n",
       "    <tr>\n",
       "      <th>98</th>\n",
       "      <td>97477917f5651732</td>\n",
       "      <td>186426</td>\n",
       "      <td>0.301657</td>\n",
       "      <td>186426 0.3016572810764271</td>\n",
       "    </tr>\n",
       "    <tr>\n",
       "      <th>99</th>\n",
       "      <td>97321a3df05babf5</td>\n",
       "      <td>39995</td>\n",
       "      <td>0.413463</td>\n",
       "      <td>39995 0.4134631793406953</td>\n",
       "    </tr>\n",
       "  </tbody>\n",
       "</table>\n",
       "<p>100 rows × 4 columns</p>\n",
       "</div>"
      ],
      "text/plain": [
       "                  id  target    scores                   landmarks\n",
       "0   999dceaeeed8caf9    3835  0.313815    3835 0.31381453276392346\n",
       "1   990255f7964cf539  132505  0.376544  132505 0.37654368407135674\n",
       "2   990b80c71118df0a  117623  0.432461   117623 0.4324607164613049\n",
       "3   997a84232ec25a53   33992  0.353848   33992 0.35384802615999456\n",
       "4   997f68d90399dbe0   97345  0.520745    97345 0.5207448350738543\n",
       "..               ...     ...       ...                         ...\n",
       "95  97dc0313f1693828   43728  0.301886   43728 0.30188577806035166\n",
       "96  974867f7466fe7d9  136684  0.357139   136684 0.3571387137544382\n",
       "97  9742af625b2f2b36   93712  0.501953    93712 0.5019533949269013\n",
       "98  97477917f5651732  186426  0.301657   186426 0.3016572810764271\n",
       "99  97321a3df05babf5   39995  0.413463    39995 0.4134631793406953\n",
       "\n",
       "[100 rows x 4 columns]"
      ]
     },
     "execution_count": 231,
     "metadata": {},
     "output_type": "execute_result"
    }
   ],
   "source": [
    "final"
   ]
  },
  {
   "cell_type": "code",
   "execution_count": 209,
   "metadata": {},
   "outputs": [],
   "source": [
    "actuals = pd.read_csv('train_label_to_category.csv')"
   ]
  },
  {
   "cell_type": "code",
   "execution_count": 234,
   "metadata": {},
   "outputs": [
    {
     "data": {
      "text/plain": [
       "'http://commons.wikimedia.org/wiki/Category:Glanfurt'"
      ]
     },
     "execution_count": 234,
     "metadata": {},
     "output_type": "execute_result"
    }
   ],
   "source": [
    "actuals[actuals['landmark_id']==2188]['category'].values[0]"
   ]
  },
  {
   "cell_type": "code",
   "execution_count": 235,
   "metadata": {},
   "outputs": [
    {
     "data": {
      "text/html": [
       "<div>\n",
       "<style scoped>\n",
       "    .dataframe tbody tr th:only-of-type {\n",
       "        vertical-align: middle;\n",
       "    }\n",
       "\n",
       "    .dataframe tbody tr th {\n",
       "        vertical-align: top;\n",
       "    }\n",
       "\n",
       "    .dataframe thead th {\n",
       "        text-align: right;\n",
       "    }\n",
       "</style>\n",
       "<table border=\"1\" class=\"dataframe\">\n",
       "  <thead>\n",
       "    <tr style=\"text-align: right;\">\n",
       "      <th></th>\n",
       "      <th>landmark_id</th>\n",
       "      <th>category</th>\n",
       "    </tr>\n",
       "  </thead>\n",
       "  <tbody>\n",
       "    <tr>\n",
       "      <th>0</th>\n",
       "      <td>0</td>\n",
       "      <td>http://commons.wikimedia.org/wiki/Category:Hap...</td>\n",
       "    </tr>\n",
       "    <tr>\n",
       "      <th>1</th>\n",
       "      <td>1</td>\n",
       "      <td>http://commons.wikimedia.org/wiki/Category:Lui...</td>\n",
       "    </tr>\n",
       "    <tr>\n",
       "      <th>2</th>\n",
       "      <td>2</td>\n",
       "      <td>http://commons.wikimedia.org/wiki/Category:Gra...</td>\n",
       "    </tr>\n",
       "    <tr>\n",
       "      <th>3</th>\n",
       "      <td>3</td>\n",
       "      <td>http://commons.wikimedia.org/wiki/Category:Twe...</td>\n",
       "    </tr>\n",
       "    <tr>\n",
       "      <th>4</th>\n",
       "      <td>4</td>\n",
       "      <td>http://commons.wikimedia.org/wiki/Category:San...</td>\n",
       "    </tr>\n",
       "    <tr>\n",
       "      <th>...</th>\n",
       "      <td>...</td>\n",
       "      <td>...</td>\n",
       "    </tr>\n",
       "    <tr>\n",
       "      <th>203089</th>\n",
       "      <td>203089</td>\n",
       "      <td>http://commons.wikimedia.org/wiki/Category:Isa...</td>\n",
       "    </tr>\n",
       "    <tr>\n",
       "      <th>203090</th>\n",
       "      <td>203090</td>\n",
       "      <td>http://commons.wikimedia.org/wiki/Category:Mar...</td>\n",
       "    </tr>\n",
       "    <tr>\n",
       "      <th>203091</th>\n",
       "      <td>203091</td>\n",
       "      <td>http://commons.wikimedia.org/wiki/Category:Sil...</td>\n",
       "    </tr>\n",
       "    <tr>\n",
       "      <th>203092</th>\n",
       "      <td>203092</td>\n",
       "      <td>http://commons.wikimedia.org/wiki/Category:Hoa_Lu</td>\n",
       "    </tr>\n",
       "    <tr>\n",
       "      <th>203093</th>\n",
       "      <td>203093</td>\n",
       "      <td>http://commons.wikimedia.org/wiki/Category:Sto...</td>\n",
       "    </tr>\n",
       "  </tbody>\n",
       "</table>\n",
       "<p>203094 rows × 2 columns</p>\n",
       "</div>"
      ],
      "text/plain": [
       "        landmark_id                                           category\n",
       "0                 0  http://commons.wikimedia.org/wiki/Category:Hap...\n",
       "1                 1  http://commons.wikimedia.org/wiki/Category:Lui...\n",
       "2                 2  http://commons.wikimedia.org/wiki/Category:Gra...\n",
       "3                 3  http://commons.wikimedia.org/wiki/Category:Twe...\n",
       "4                 4  http://commons.wikimedia.org/wiki/Category:San...\n",
       "...             ...                                                ...\n",
       "203089       203089  http://commons.wikimedia.org/wiki/Category:Isa...\n",
       "203090       203090  http://commons.wikimedia.org/wiki/Category:Mar...\n",
       "203091       203091  http://commons.wikimedia.org/wiki/Category:Sil...\n",
       "203092       203092  http://commons.wikimedia.org/wiki/Category:Hoa_Lu\n",
       "203093       203093  http://commons.wikimedia.org/wiki/Category:Sto...\n",
       "\n",
       "[203094 rows x 2 columns]"
      ]
     },
     "execution_count": 235,
     "metadata": {},
     "output_type": "execute_result"
    }
   ],
   "source": [
    "actuals"
   ]
  },
  {
   "cell_type": "code",
   "execution_count": 236,
   "metadata": {},
   "outputs": [
    {
     "data": {
      "text/html": [
       "<div>\n",
       "<style scoped>\n",
       "    .dataframe tbody tr th:only-of-type {\n",
       "        vertical-align: middle;\n",
       "    }\n",
       "\n",
       "    .dataframe tbody tr th {\n",
       "        vertical-align: top;\n",
       "    }\n",
       "\n",
       "    .dataframe thead th {\n",
       "        text-align: right;\n",
       "    }\n",
       "</style>\n",
       "<table border=\"1\" class=\"dataframe\">\n",
       "  <thead>\n",
       "    <tr style=\"text-align: right;\">\n",
       "      <th></th>\n",
       "      <th>id</th>\n",
       "      <th>landmark_id</th>\n",
       "      <th>landmark_id_encode</th>\n",
       "      <th>group</th>\n",
       "    </tr>\n",
       "  </thead>\n",
       "  <tbody>\n",
       "    <tr>\n",
       "      <th>0</th>\n",
       "      <td>17660ef415d37059</td>\n",
       "      <td>1</td>\n",
       "      <td>0</td>\n",
       "      <td>1.0</td>\n",
       "    </tr>\n",
       "    <tr>\n",
       "      <th>1</th>\n",
       "      <td>92b6290d571448f6</td>\n",
       "      <td>1</td>\n",
       "      <td>0</td>\n",
       "      <td>3.0</td>\n",
       "    </tr>\n",
       "    <tr>\n",
       "      <th>2</th>\n",
       "      <td>cd41bf948edc0340</td>\n",
       "      <td>1</td>\n",
       "      <td>0</td>\n",
       "      <td>0.0</td>\n",
       "    </tr>\n",
       "    <tr>\n",
       "      <th>3</th>\n",
       "      <td>fb09f1e98c6d2f70</td>\n",
       "      <td>1</td>\n",
       "      <td>0</td>\n",
       "      <td>2.0</td>\n",
       "    </tr>\n",
       "    <tr>\n",
       "      <th>4</th>\n",
       "      <td>25c9dfc7ea69838d</td>\n",
       "      <td>7</td>\n",
       "      <td>1</td>\n",
       "      <td>9.0</td>\n",
       "    </tr>\n",
       "    <tr>\n",
       "      <th>...</th>\n",
       "      <td>...</td>\n",
       "      <td>...</td>\n",
       "      <td>...</td>\n",
       "      <td>...</td>\n",
       "    </tr>\n",
       "    <tr>\n",
       "      <th>1580465</th>\n",
       "      <td>72c3b1c367e3d559</td>\n",
       "      <td>203092</td>\n",
       "      <td>81312</td>\n",
       "      <td>12.0</td>\n",
       "    </tr>\n",
       "    <tr>\n",
       "      <th>1580466</th>\n",
       "      <td>7a6a2d9ea92684a6</td>\n",
       "      <td>203092</td>\n",
       "      <td>81312</td>\n",
       "      <td>18.0</td>\n",
       "    </tr>\n",
       "    <tr>\n",
       "      <th>1580467</th>\n",
       "      <td>9401fad4c497e1f9</td>\n",
       "      <td>203092</td>\n",
       "      <td>81312</td>\n",
       "      <td>14.0</td>\n",
       "    </tr>\n",
       "    <tr>\n",
       "      <th>1580468</th>\n",
       "      <td>aacc960c9a228b5f</td>\n",
       "      <td>203092</td>\n",
       "      <td>81312</td>\n",
       "      <td>19.0</td>\n",
       "    </tr>\n",
       "    <tr>\n",
       "      <th>1580469</th>\n",
       "      <td>d9e338c530dca106</td>\n",
       "      <td>203092</td>\n",
       "      <td>81312</td>\n",
       "      <td>16.0</td>\n",
       "    </tr>\n",
       "  </tbody>\n",
       "</table>\n",
       "<p>1580470 rows × 4 columns</p>\n",
       "</div>"
      ],
      "text/plain": [
       "                       id  landmark_id  landmark_id_encode  group\n",
       "0        17660ef415d37059            1                   0    1.0\n",
       "1        92b6290d571448f6            1                   0    3.0\n",
       "2        cd41bf948edc0340            1                   0    0.0\n",
       "3        fb09f1e98c6d2f70            1                   0    2.0\n",
       "4        25c9dfc7ea69838d            7                   1    9.0\n",
       "...                   ...          ...                 ...    ...\n",
       "1580465  72c3b1c367e3d559       203092               81312   12.0\n",
       "1580466  7a6a2d9ea92684a6       203092               81312   18.0\n",
       "1580467  9401fad4c497e1f9       203092               81312   14.0\n",
       "1580468  aacc960c9a228b5f       203092               81312   19.0\n",
       "1580469  d9e338c530dca106       203092               81312   16.0\n",
       "\n",
       "[1580470 rows x 4 columns]"
      ]
     },
     "execution_count": 236,
     "metadata": {},
     "output_type": "execute_result"
    }
   ],
   "source": [
    "encoded_actuals = pd.read_csv(DATASET_DIR)\n",
    "final_encoded = encoded_actuals[encoded_actuals['landmark_id'].isin(final['target'])]\n",
    "final_encoded"
   ]
  },
  {
   "cell_type": "code",
   "execution_count": null,
   "metadata": {},
   "outputs": [],
   "source": [
    "sample_df_classes_with_at_least_100.values"
   ]
  }
 ],
 "metadata": {
  "interpreter": {
   "hash": "65acd4c9d4fd6733d7ab637faeb0b04fd086d66836c070d09357b7a84dadd4e3"
  },
  "kernelspec": {
   "display_name": "Python 3.8.12 ('mlp')",
   "language": "python",
   "name": "python3"
  },
  "language_info": {
   "codemirror_mode": {
    "name": "ipython",
    "version": 3
   },
   "file_extension": ".py",
   "mimetype": "text/x-python",
   "name": "python",
   "nbconvert_exporter": "python",
   "pygments_lexer": "ipython3",
   "version": "3.8.12"
  },
  "orig_nbformat": 4
 },
 "nbformat": 4,
 "nbformat_minor": 2
}
